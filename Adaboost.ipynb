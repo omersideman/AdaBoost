{
 "cells": [
  {
   "cell_type": "code",
   "execution_count": 4,
   "id": "99f4b361",
   "metadata": {},
   "outputs": [],
   "source": [
    "import pandas as pd\n",
    "import numpy as np\n",
    "from tqdm.notebook import tqdm_notebook\n",
    "import matplotlib.pyplot as plt\n",
    "# !pip install xlrd\n",
    "# import xlrd"
   ]
  },
  {
   "cell_type": "markdown",
   "source": [
    "We first load the dataset from the .xls file (downloaded from https://archive.ics.uci.edu/ml/machine-learning-databases/00350/)"
   ],
   "metadata": {
    "collapsed": false
   }
  },
  {
   "cell_type": "code",
   "execution_count": 5,
   "id": "4cb1b89a",
   "metadata": {},
   "outputs": [
    {
     "name": "stdout",
     "output_type": "stream",
     "text": [
      "(30001, 25)\n",
      "['ID' 'LIMIT_BAL' 'SEX' 'EDUCATION' 'MARRIAGE' 'AGE' 'PAY_0' 'PAY_2'\n",
      " 'PAY_3' 'PAY_4' 'PAY_5' 'PAY_6' 'BILL_AMT1' 'BILL_AMT2' 'BILL_AMT3'\n",
      " 'BILL_AMT4' 'BILL_AMT5' 'BILL_AMT6' 'PAY_AMT1' 'PAY_AMT2' 'PAY_AMT3'\n",
      " 'PAY_AMT4' 'PAY_AMT5' 'PAY_AMT6' 'default payment next month']\n"
     ]
    }
   ],
   "source": [
    "data_df=pd.read_excel('default.xls')\n",
    "data_df.dropna(inplace=True)\n",
    "print(data_df.shape)\n",
    "data_np = data_df.to_numpy()\n",
    "print(data_np[0])\n",
    "data_np = data_np[1:,1:]\n",
    "np.random.seed(0)\n",
    "data_np = np.random.permutation(data_np)"
   ]
  },
  {
   "cell_type": "markdown",
   "id": "1be52e20",
   "metadata": {},
   "source": [
    "Now we want to check if the data is balanced with respect to the target value, i.e., default payment next month:"
   ]
  },
  {
   "cell_type": "code",
   "execution_count": 6,
   "id": "9bbfd301",
   "metadata": {},
   "outputs": [
    {
     "name": "stdout",
     "output_type": "stream",
     "text": [
      "6636\n"
     ]
    }
   ],
   "source": [
    "target = data_np[:,23]\n",
    "print(target.sum())"
   ]
  },
  {
   "cell_type": "markdown",
   "id": "2fa34ffe",
   "metadata": {},
   "source": [
    "Here we clearly identiy only 6636 out of 30000 (around 22%) of clients will default next month. Thus we want to split the data carefully such that this ratio is mantained across training and test data.\n",
    "\n",
    "Next we aplit the dataset to training (20000 instances) and test (10000 instances). Thus we need to have (6636*2)/3=4424 positive samples and 15576 negative samples in training set:"
   ]
  },
  {
   "cell_type": "code",
   "execution_count": 7,
   "id": "e15a825e",
   "metadata": {},
   "outputs": [],
   "source": [
    "train_np = []\n",
    "test_np = []\n",
    "pos_count = 0\n",
    "for sample in data_np:\n",
    "    if len(train_np)==20000:\n",
    "        test_np.append(sample)\n",
    "    else:\n",
    "        if sample[23]==1:\n",
    "            if pos_count<4424:\n",
    "                train_np.append(sample)\n",
    "            else:\n",
    "                test_np.append(sample)\n",
    "            pos_count+=1\n",
    "        else:\n",
    "            train_np.append(sample)\n",
    "    \n",
    "train_np = np.array(train_np)\n",
    "test_np = np.array(test_np)"
   ]
  },
  {
   "cell_type": "markdown",
   "id": "3925db6d",
   "metadata": {},
   "source": [
    "Then we verify the correctness of such split:"
   ]
  },
  {
   "cell_type": "code",
   "execution_count": 8,
   "id": "123aacbe",
   "metadata": {},
   "outputs": [
    {
     "name": "stdout",
     "output_type": "stream",
     "text": [
      "(20000, 24)\n",
      "4363\n",
      "(10000, 24)\n",
      "2273\n"
     ]
    }
   ],
   "source": [
    "print(train_np.shape)\n",
    "print(train_np[:,23].sum())\n",
    "print(test_np.shape)\n",
    "print(test_np[:,23].sum())"
   ]
  },
  {
   "cell_type": "markdown",
   "id": "a76a5a8f",
   "metadata": {},
   "source": [
    "Finally, we save the data split using pickle"
   ]
  },
  {
   "cell_type": "code",
   "execution_count": 9,
   "id": "46f4da50",
   "metadata": {},
   "outputs": [],
   "source": [
    "import pickle\n",
    "with open(\"train_test_split.pkl\", \"bw\") as fh:\n",
    "    data = (train_np, test_np)\n",
    "    pickle.dump(data, fh)"
   ]
  },
  {
   "cell_type": "markdown",
   "id": "7b645415",
   "metadata": {},
   "source": [
    "Loading the data"
   ]
  },
  {
   "cell_type": "code",
   "execution_count": 10,
   "id": "78f6bc4f",
   "metadata": {},
   "outputs": [],
   "source": [
    "with open(\"train_test_split.pkl\", \"br\") as fh:\n",
    "    data = pickle.load(fh)\n",
    "train_data = data[0]\n",
    "test_data = data[1]\n",
    "\n",
    "train_x = train_data[:,:23] \n",
    "train_y = train_data[:,23] # labels are either 0 or 1 \n",
    "test_x = test_data[:,:23]\n",
    "test_y = test_data[:,23] # labels are either 0 or 1\n",
    "# print(train_x.shape)"
   ]
  },
  {
   "cell_type": "markdown",
   "id": "a3c95681",
   "metadata": {},
   "source": [
    "Finding d optimal weak classifiers"
   ]
  },
  {
   "cell_type": "code",
   "execution_count": 11,
   "id": "2d24dc4c",
   "metadata": {
    "collapsed": true
   },
   "outputs": [
    {
     "data": {
      "text/plain": "  0%|          | 0/23 [00:00<?, ?it/s]",
      "application/vnd.jupyter.widget-view+json": {
       "version_major": 2,
       "version_minor": 0,
       "model_id": "6075ecd17d484a2fbb8698022b56b710"
      }
     },
     "metadata": {},
     "output_type": "display_data"
    }
   ],
   "source": [
    "def split_error(XY, weights, threshold, sign):\n",
    "    y_pred = [(sign*x_i > -threshold) for x_i in XY[:,0]]\n",
    "    return np.sum(weights[y_pred != XY[:,1]])\n",
    "\n",
    "def potential_split(XY, index):\n",
    "    # suppose the feature changes at this index from value 1 to value 2 (datapoint index-1 has val1, index has val2)\n",
    "    value1 = XY[XY[:,0] == XY[index-1,0]] # all the labels for examples where the feature takes the value 1\n",
    "    value2 = XY[XY[:,0] == XY[index,0]] # all the labels for examples where the feature takes the value 2\n",
    "    if len(np.union1d(np.unique(value1[:,1]), np.unique(value2[:,1]))) == 2: # not all labels are the same\n",
    "        return True\n",
    "    return False\n",
    "\n",
    "def get_weak_classifiers(data_x, data_y):\n",
    "    # returns array of d weak classifiers\n",
    "    n, d = data_x.shape\n",
    "    P = np.ones(data_y.shape) * 1/data_y.shape[0]\n",
    "    weak_classifiers = [] # will hold the final j weak learners\n",
    "    for j in tqdm_notebook(range(d)):\n",
    "        # keep only feature j and labels\n",
    "        feature = train_data[:, [j, 23]]\n",
    "        feature = feature[feature[:, 0].argsort()]\n",
    "        potential_h = [] # each row is (threshold, sign, training error)\n",
    "        for i in range(n):\n",
    "            if feature[i,0] != feature[i-1,0]:\n",
    "                # check if division makes sense\n",
    "                if not potential_split(feature, i):\n",
    "                    continue\n",
    "                th = (feature[i,0] + feature[i-1,0]) / 2\n",
    "                err = split_error(feature, P, th, 1)\n",
    "                if err > 0.5: # flip\n",
    "                    potential_h.append((-th, -1, 1 - err))\n",
    "                else:\n",
    "                    potential_h.append((th, 1, err))\n",
    "        potential_h = np.array(potential_h)\n",
    "        # array of indexes of all thresholds that give minimum error\n",
    "        good_h = np.where(potential_h[:,2] == np.min(potential_h[:,2]))[0]\n",
    "        med_val = np.median(potential_h[good_h,0])\n",
    "        weak_classifiers.append((med_val, potential_h[good_h[0],1], potential_h[good_h[0],2]))\n",
    "\n",
    "    return np.array(weak_classifiers)\n",
    "\n",
    "H = get_weak_classifiers(train_x, train_y)"
   ]
  },
  {
   "cell_type": "markdown",
   "id": "738150a7",
   "metadata": {},
   "source": [
    "Run classifiers on test data:"
   ]
  },
  {
   "cell_type": "code",
   "execution_count": 12,
   "id": "5a8425cc",
   "metadata": {},
   "outputs": [
    {
     "name": "stdout",
     "output_type": "stream",
     "text": [
      "Feature 6 achieves the best test error at 0.189, with training error 0.176 and sj=1, bj=-1.500\n",
      "\n",
      "Feature 14 achieves the worst test error at 0.228, with training error 0.218 and sj=-1, bj=-21056.500\n",
      "\n",
      "Average test error: 0.223\n",
      "Average train error: 0.214\n"
     ]
    }
   ],
   "source": [
    "def test_weak_classifiers(weak_classifiers, data_full):\n",
    "    errors = []\n",
    "    n, d = data_full.shape\n",
    "    d -= 1\n",
    "    P = np.ones((n,1)) * 1/n    # uniform\n",
    "    for j in range(d):\n",
    "        feature = data_full[:, [j, 23]]\n",
    "        feature = feature[feature[:, 0].argsort()]\n",
    "        errors.append(split_error(feature, P, weak_classifiers[j, 0], weak_classifiers[j, 1]))\n",
    "    return np.array(errors), np.argmin(errors), np.argmax(errors)\n",
    "\n",
    "h_test_errors, best_h, worst_h = test_weak_classifiers(H, test_data)\n",
    "h_train_errors = test_weak_classifiers(H, train_data)[0]\n",
    "\n",
    "print(f\"Feature {best_h+1} achieves the best test error at {h_test_errors[best_h]:.3f}, with training error {h_train_errors[best_h]:.3f} and sj={H[best_h, 1]:.0f}, bj={H[best_h, 0]:.3f}\\n\")\n",
    "\n",
    "print(f\"Feature {worst_h+1} achieves the worst test error at {h_test_errors[worst_h]:.3f}, with training error {h_train_errors[worst_h]:.3f} and sj={H[worst_h, 1]:.0f}, bj={H[worst_h, 0]:.3f}\\n\")\n",
    "\n",
    "print(f\"Average test error: {np.average(h_test_errors):.3f}\")\n",
    "print(f\"Average train error: {np.average(h_train_errors):.3f}\")"
   ]
  },
  {
   "cell_type": "markdown",
   "source": [
    "### Exercise 3.3: Parallel Adaboost"
   ],
   "metadata": {
    "collapsed": false
   }
  },
  {
   "cell_type": "markdown",
   "source": [
    "Creating matrix M:"
   ],
   "metadata": {
    "collapsed": false
   }
  },
  {
   "cell_type": "code",
   "execution_count": 13,
   "outputs": [],
   "source": [
    "def hypothesis(weak_learners: np.array, j: int, X: np.array) -> {-1,1}:\n",
    "    sign = weak_learners[j,1]\n",
    "    b = weak_learners[j,0]\n",
    "    return np.sign(sign * X[j] + b)\n",
    "\n",
    "def get_M(weak_learners, data_X, data_y):\n",
    "    data_y[data_y==0] = -1\n",
    "    M = np.empty(data_X.shape)\n",
    "    for I, (x, y) in enumerate(zip(data_X, data_y)):\n",
    "        for J, h in enumerate(weak_learners):\n",
    "            M[I, J] = y * hypothesis(H, J, x)\n",
    "    return M\n",
    "\n",
    "M_matrix = get_M(H, train_x, train_y)"
   ],
   "metadata": {
    "collapsed": false
   }
  },
  {
   "cell_type": "markdown",
   "source": [
    "Parallel Adaboost:"
   ],
   "metadata": {
    "collapsed": false
   }
  },
  {
   "cell_type": "code",
   "execution_count": 14,
   "outputs": [],
   "source": [
    "def metaclassifier(weak_classifiers: np.array, W: np.array, X: np.array) -> {-1,1}:\n",
    "    weighted_sum = 0\n",
    "    for j, w in enumerate(W):\n",
    "        weighted_sum += w * hypothesis(weak_classifiers, j, X)\n",
    "    return np.sign(weighted_sum)\n",
    "\n",
    "def adaboost_error(weights, weak_classifiers, data_X, data_y):\n",
    "    weighted_sum = 0\n",
    "    data_y[data_y==0] = -1\n",
    "    for X, y in zip(data_X, data_y):\n",
    "        weighted_sum += (y * metaclassifier(weak_classifiers, weights, X) <= 0)\n",
    "    return weighted_sum / data_y.shape[0]\n",
    "\n",
    "def Parallel_Adaboost(M: np.ndarray, max_pass=100) -> np.array:\n",
    "    M = M/M.shape[1]\n",
    "    train_errors = np.empty(max_pass)\n",
    "    test_errors = np.empty(max_pass)\n",
    "    training_loss = np.empty(max_pass)\n",
    "    n, d = M.shape\n",
    "    P = np.ones((n, 1))\n",
    "    W = np.zeros((d, 1))\n",
    "    for t in tqdm_notebook(range(max_pass)):\n",
    "        P = P / np.sum(P)\n",
    "        E = np.matmul(np.negative(np.transpose(M).clip(max=0)), P)\n",
    "        G = np.matmul(np.transpose(M).clip(min=0), P)\n",
    "        B = 0.5 * (np.log(G) - np.log(E))\n",
    "        W = W + B\n",
    "        P = np.multiply(P, np.exp(np.matmul(-M, B)))\n",
    "        train_errors[t] = adaboost_error(W, H, train_x, train_y)\n",
    "        test_errors[t] = adaboost_error(W, H, test_x, test_y)\n",
    "        # print(f\"Iteration {t}, train error: {train_errors[t]}, test error: {test_errors[t]}\")\n",
    "        training_loss[t] = np.sum(np.exp(np.matmul(-M,W)))\n",
    "    return W, train_errors, test_errors, training_loss"
   ],
   "metadata": {
    "collapsed": false
   }
  },
  {
   "cell_type": "markdown",
   "source": [
    "Running Parallel Adaboost:"
   ],
   "metadata": {
    "collapsed": false
   }
  },
  {
   "cell_type": "code",
   "execution_count": 15,
   "outputs": [
    {
     "data": {
      "text/plain": "  0%|          | 0/100 [00:00<?, ?it/s]",
      "application/vnd.jupyter.widget-view+json": {
       "version_major": 2,
       "version_minor": 0,
       "model_id": "f0afa8b4b574411d8902d7016996093e"
      }
     },
     "metadata": {},
     "output_type": "display_data"
    }
   ],
   "source": [
    "T = 100\n",
    "W_parallel, p_errors_train, p_errors_test, p_loss =  Parallel_Adaboost(M_matrix, T)"
   ],
   "metadata": {
    "collapsed": false
   }
  },
  {
   "cell_type": "markdown",
   "source": [
    "Plotting errors:"
   ],
   "metadata": {
    "collapsed": false
   }
  },
  {
   "cell_type": "code",
   "execution_count": 16,
   "outputs": [
    {
     "data": {
      "text/plain": "<Figure size 640x480 with 2 Axes>",
      "image/png": "[encoded data removed]"
     },
     "metadata": {},
     "output_type": "display_data"
    }
   ],
   "source": [
    "fig, ax = plt.subplots()\n",
    "ax.plot(p_errors_train, label=\"Training Errors\")\n",
    "ax.plot(p_errors_test, label=\"Testing Errors\")\n",
    "ax.set_xlabel(\"Iteration\")\n",
    "ax.set_ylabel(\"Error\")\n",
    "ax.legend(loc=\"upper right\")\n",
    "\n",
    "ax2 = ax.twinx()\n",
    "ax2.plot(p_loss, label=\"Training Loss\", color=\"green\")\n",
    "ax2.set_ylabel(\"Loss\")\n",
    "ax2.legend(loc='center right')\n",
    "plt.title(\"Parallel Adaboost\")\n",
    "plt.show()"
   ],
   "metadata": {
    "collapsed": false
   }
  },
  {
   "cell_type": "markdown",
   "source": [
    "### Sequential Adaboost"
   ],
   "metadata": {
    "collapsed": false
   }
  },
  {
   "cell_type": "code",
   "execution_count": 17,
   "outputs": [],
   "source": [
    "def Sequential_Adaboost(M: np.ndarray, max_pass=100) -> np.array:\n",
    "    train_errors = np.empty(max_pass)\n",
    "    test_errors = np.empty(max_pass)\n",
    "    training_loss = np.empty(max_pass)\n",
    "    n, d = M.shape\n",
    "    P = np.ones((n, 1))\n",
    "    W = np.zeros((d, 1))\n",
    "    for t in tqdm_notebook(range(max_pass)):\n",
    "        P = P / np.sum(P)\n",
    "        E = np.matmul(np.negative(np.transpose(M).clip(max=0)), P)\n",
    "        G = np.matmul(np.transpose(M).clip(min=0), P)\n",
    "        B = 0.5 * (np.log(G) - np.log(E))\n",
    "        j = np.argmax(np.abs(np.sqrt(E) - np.sqrt(G)))\n",
    "        A = np.reshape(np.eye(1, d, j), (d,1))\n",
    "        W = W + np.multiply(A,B)\n",
    "        P = np.multiply(P, np.exp(np.matmul(-M, np.multiply(A,B))))\n",
    "        train_errors[t] = adaboost_error(W, H, train_x, train_y)\n",
    "        test_errors[t] = adaboost_error(W, H, test_x, test_y)\n",
    "        # print(f\"Iteration {t}, j={j} train error: {train_errors[t]}, test error: {test_errors[t]}, W nonzeros={np.count_nonzero(W)}\")\n",
    "        training_loss[t] = np.sum(np.exp(np.matmul(-M,W)))\n",
    "    return W, train_errors, test_errors, training_loss"
   ],
   "metadata": {
    "collapsed": false
   }
  },
  {
   "cell_type": "code",
   "execution_count": 18,
   "outputs": [
    {
     "data": {
      "text/plain": "  0%|          | 0/50 [00:00<?, ?it/s]",
      "application/vnd.jupyter.widget-view+json": {
       "version_major": 2,
       "version_minor": 0,
       "model_id": "5a8f0a5b16f54c458320590cfe8d94c8"
      }
     },
     "metadata": {},
     "output_type": "display_data"
    }
   ],
   "source": [
    "T = 50\n",
    "W_sequential, s_errors_train, s_errors_test, s_loss =  Sequential_Adaboost(M_matrix, T)\n"
   ],
   "metadata": {
    "collapsed": false
   }
  },
  {
   "cell_type": "code",
   "execution_count": 19,
   "outputs": [
    {
     "data": {
      "text/plain": "<Figure size 640x480 with 2 Axes>",
      "image/png": "[encoded data removed]"
     },
     "metadata": {},
     "output_type": "display_data"
    }
   ],
   "source": [
    "fig, ax = plt.subplots()\n",
    "ax.plot(s_errors_train, label=\"Training Errors\")\n",
    "ax.plot(s_errors_test, label=\"Testing Errors\")\n",
    "ax.set_xlabel(\"Iteration\")\n",
    "ax.set_ylabel(\"Error\")\n",
    "ax.legend(loc=\"upper right\")\n",
    "\n",
    "ax2 = ax.twinx()\n",
    "ax2.plot(s_loss, label=\"Training Loss\", color=\"green\")\n",
    "ax2.set_ylabel(\"Loss\")\n",
    "ax2.legend(loc='center right')\n",
    "\n",
    "plt.title(\"Sequential Adaboost\")\n",
    "plt.show()"
   ],
   "metadata": {
    "collapsed": false
   }
  }
 ],
 "metadata": {
  "kernelspec": {
   "display_name": "Python 3 (ipykernel)",
   "language": "python",
   "name": "python3"
  },
  "language_info": {
   "codemirror_mode": {
    "name": "ipython",
    "version": 3
   },
   "file_extension": ".py",
   "mimetype": "text/x-python",
   "name": "python",
   "nbconvert_exporter": "python",
   "pygments_lexer": "ipython3",
   "version": "3.9.12"
  },
  "vscode": {
   "interpreter": {
    "hash": "31f2aee4e71d21fbe5cf8b01ff0e069b9275f58929596ceb00d14d90e3e16cd6"
   }
  }
 },
 "nbformat": 4,
 "nbformat_minor": 5
}
